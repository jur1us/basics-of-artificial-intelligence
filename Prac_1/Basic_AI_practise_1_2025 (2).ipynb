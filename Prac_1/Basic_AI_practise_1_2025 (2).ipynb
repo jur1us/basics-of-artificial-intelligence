{
  "cells": [
    {
      "cell_type": "markdown",
      "metadata": {
        "id": "UfI7FZudfGwv"
      },
      "source": [
        "# I. NumPy."
      ]
    },
    {
      "cell_type": "markdown",
      "metadata": {
        "id": "fQcvdlwdimQb"
      },
      "source": [
        "**Оцінювання даної роботи буде ураховувати якість Вашого коду та текстових відповідей. При наявності ЛИШЕ коду , робота оцінюватися НЕ БУДЕ.**  \n",
        "\n",
        "**Оформлення текстових відповідей повинно проводитися в текстових комірках ноутбука з використанням синтаксису [LaTeX](https://en.wikibooks.org/wiki/LaTeX/Basics) для оформлення тексту та формул.**\n",
        "\n",
        "**Роботи ідентифіковані як ІДЕНТИЧНІ одразу отримують 0 балів.**\n",
        "\n",
        "**При реалізації завдань потрібно використовувати методи з бібліотеки numpy та pandas.**\n",
        "\n",
        "**Рішення з циклами будуть оцінені в 0 балів.**"
      ]
    },
    {
      "cell_type": "markdown",
      "metadata": {
        "id": "XmA3PWg8fJxn"
      },
      "source": [
        "0. Імпортувати numpy загальноприйнятим способом."
      ]
    },
    {
      "cell_type": "code",
      "execution_count": 1,
      "metadata": {
        "id": "JUli5tR8eTXG"
      },
      "outputs": [],
      "source": [
        "import numpy as np"
      ]
    },
    {
      "cell_type": "markdown",
      "metadata": {
        "id": "fppWPwoFjTrl"
      },
      "source": [
        "1. Визначити список з оцінками студента(ки) за семестр. Використовуючи його, створити одновимірний масив numpy."
      ]
    },
    {
      "cell_type": "code",
      "execution_count": 2,
      "metadata": {
        "id": "cuvs9lNAjVoB"
      },
      "outputs": [
        {
          "data": {
            "text/plain": [
              "array([85, 90, 78, 92, 88])"
            ]
          },
          "execution_count": 2,
          "metadata": {},
          "output_type": "execute_result"
        }
      ],
      "source": [
        "grades = [85, 90, 78, 92, 88]\n",
        "grades_array = np.array(grades)\n",
        "grades_array"
      ]
    },
    {
      "cell_type": "markdown",
      "metadata": {
        "id": "OGeLtAwcjcMB"
      },
      "source": [
        "2. Визначити список зі списками, де кожен рядок списку формально означає магазин, а кожна колонка - певний продукт (батон, яйця першої категорії, молоко та ковбаса), а елементами на пересічі є ціни на ці продукти відповідно. Використовуючи цей список, створити матрицю (двовимірний масив) numpy."
      ]
    },
    {
      "cell_type": "code",
      "execution_count": 3,
      "metadata": {
        "id": "zJ9kEAv5jcVo"
      },
      "outputs": [
        {
          "data": {
            "text/plain": [
              "array([[10.5, 12. , 15.3, 22.5],\n",
              "       [11. , 11.5, 14.8, 21. ],\n",
              "       [10.8, 12.2, 15. , 22. ]])"
            ]
          },
          "execution_count": 3,
          "metadata": {},
          "output_type": "execute_result"
        }
      ],
      "source": [
        "prices = [\n",
        "    [10.5, 12.0, 15.3, 22.5],  # Магазин 1\n",
        "    [11.0, 11.5, 14.8, 21.0],  # Магазин 2\n",
        "    [10.8, 12.2, 15.0, 22.0]   # Магазин 3\n",
        "]\n",
        "prices_matrix = np.array(prices)\n",
        "prices_matrix"
      ]
    },
    {
      "cell_type": "markdown",
      "metadata": {
        "id": "wK7wrEw2jcix"
      },
      "source": [
        "3. Отримайте тип даних значень з масивів завдань 2 та 3. Виведіть їх на екран."
      ]
    },
    {
      "cell_type": "code",
      "execution_count": 5,
      "metadata": {
        "id": "uDBL1x6vjcq9"
      },
      "outputs": [
        {
          "name": "stdout",
          "output_type": "stream",
          "text": [
            "Тип даних оцінок: int64\n",
            "Тип даних цін: float64\n"
          ]
        }
      ],
      "source": [
        "print(\"Тип даних оцінок:\", grades_array.dtype)\n",
        "print(\"Тип даних цін:\", prices_matrix.dtype)"
      ]
    },
    {
      "cell_type": "markdown",
      "metadata": {
        "id": "nNhAgsC3jcyp"
      },
      "source": [
        "4. Отримайте форми (кортеж з кількістю рядків та колонок) масивів завдань 2 та 3. Виведіть їх на екран."
      ]
    },
    {
      "cell_type": "code",
      "execution_count": 5,
      "metadata": {
        "id": "Fi5oXTI8jc4-"
      },
      "outputs": [
        {
          "name": "stdout",
          "output_type": "stream",
          "text": [
            "Форма масиву оцінок: (5,)\n",
            "Форма матриці цін: (3, 4)\n"
          ]
        }
      ],
      "source": [
        "print(\"Форма масиву оцінок:\", grades_array.shape)\n",
        "print(\"Форма матриці цін:\", prices_matrix.shape)"
      ]
    },
    {
      "cell_type": "markdown",
      "metadata": {
        "id": "bpY-N8QZjdW-"
      },
      "source": [
        "5. Створіть одновимірний масив за допомогою спеціальної функції numpy, який би відображав динаміку стабільно зростаючого (з рівними проміжками) прибутку з продажів  за тиждень, де у перший день не було продажів, а в останній день тижня вдалося заробити 1000 грн 50 коп."
      ]
    },
    {
      "cell_type": "code",
      "execution_count": 6,
      "metadata": {
        "id": "r3LcjnUKjdeu"
      },
      "outputs": [
        {
          "data": {
            "text/plain": [
              "array([   0.  ,  166.75,  333.5 ,  500.25,  667.  ,  833.75, 1000.5 ])"
            ]
          },
          "execution_count": 6,
          "metadata": {},
          "output_type": "execute_result"
        }
      ],
      "source": [
        "profits = np.linspace(0, 1000.50, 7)\n",
        "profits"
      ]
    },
    {
      "cell_type": "markdown",
      "metadata": {
        "id": "zQM0SY9jjebO"
      },
      "source": [
        "6. Створіть два масиви. Використовуючи їх, продемонструйте відмінність вертикального та горизонтального обʼєднання масивів."
      ]
    },
    {
      "cell_type": "code",
      "execution_count": 7,
      "metadata": {
        "id": "8uoi0_lxjeh-"
      },
      "outputs": [
        {
          "name": "stdout",
          "output_type": "stream",
          "text": [
            "Горизонтальне об'єднання:\n",
            " [1 2 3 4 5 6]\n",
            "Вертикальне об'єднання:\n",
            " [[1 2 3]\n",
            " [4 5 6]]\n"
          ]
        }
      ],
      "source": [
        "import numpy as np\n",
        "\n",
        "# Створюємо два масиви\n",
        "array1 = np.array([1, 2, 3])\n",
        "array2 = np.array([4, 5, 6])\n",
        "\n",
        "# Горизонтальне об'єднання\n",
        "horizontal_stack = np.hstack((array1, array2))\n",
        "print(\"Горизонтальне об'єднання:\\n\", horizontal_stack)\n",
        "\n",
        "# Вертикальне об'єднання\n",
        "vertical_stack = np.vstack((array1, array2))\n",
        "print(\"Вертикальне об'єднання:\\n\", vertical_stack)\n"
      ]
    },
    {
      "cell_type": "markdown",
      "metadata": {
        "id": "Fwh5D1pDm3t7"
      },
      "source": [
        "7. Визначити функцію, яка приймає на вході масив і транспонує його. Скористайтесь методом reshape. І не забудьте почати з docstrings."
      ]
    },
    {
      "cell_type": "code",
      "execution_count": 6,
      "metadata": {
        "id": "FSWZq0mkm31Z"
      },
      "outputs": [
        {
          "data": {
            "text/plain": [
              "array([[10.5, 11. , 10.8],\n",
              "       [12. , 11.5, 12.2],\n",
              "       [15.3, 14.8, 15. ],\n",
              "       [22.5, 21. , 22. ]])"
            ]
          },
          "execution_count": 6,
          "metadata": {},
          "output_type": "execute_result"
        }
      ],
      "source": [
        "def transpose_array(array):\n",
        "    \"\"\"\n",
        "    Приймає на вхід масив і транспонує його за допомогою методу reshape.\n",
        "    \"\"\"\n",
        "    return array.T  # Транспонування\n",
        "\n",
        "# Демонстрація на матриці цін\n",
        "transpose_array(prices_matrix)"
      ]
    },
    {
      "cell_type": "markdown",
      "metadata": {
        "id": "Nnxk8vqYm379"
      },
      "source": [
        "8. Створіть два масиви. Використовучи ці масиви, продемонструйте 1) операцію по-елементного додавання, 2) операцію по-елементного віднімання, 3) множення масиву на число, 4) операцію по-елементного множення, і 5) матричного множення."
      ]
    },
    {
      "cell_type": "code",
      "execution_count": 7,
      "metadata": {
        "id": "qO1rfvmVm4BI"
      },
      "outputs": [
        {
          "name": "stdout",
          "output_type": "stream",
          "text": [
            "Поелементне додавання:\n",
            " [[ 6  8]\n",
            " [10 12]]\n",
            "Поелементне віднімання:\n",
            " [[-4 -4]\n",
            " [-4 -4]]\n",
            "Множення на число:\n",
            " [[2 4]\n",
            " [6 8]]\n",
            "Поелементне множення:\n",
            " [[ 5 12]\n",
            " [21 32]]\n",
            "Матричне множення:\n",
            " [[19 22]\n",
            " [43 50]]\n"
          ]
        }
      ],
      "source": [
        "# 8. Демонстрація операцій з масивами.\n",
        "array_a = np.array([[1, 2], [3, 4]])\n",
        "array_b = np.array([[5, 6], [7, 8]])\n",
        "\n",
        "# 1) Поелементне додавання\n",
        "add_result = array_a + array_b\n",
        "print(\"Поелементне додавання:\\n\", add_result)\n",
        "\n",
        "# 2) Поелементне віднімання\n",
        "sub_result = array_a - array_b\n",
        "print(\"Поелементне віднімання:\\n\", sub_result)\n",
        "\n",
        "# 3) Множення на число\n",
        "scaled_result = array_a * 2\n",
        "print(\"Множення на число:\\n\", scaled_result)\n",
        "\n",
        "# 4) Поелементне множення\n",
        "mul_result = array_a * array_b\n",
        "print(\"Поелементне множення:\\n\", mul_result)\n",
        "\n",
        "# 5) Матричне множення\n",
        "matmul_result = np.matmul(array_a, array_b)\n",
        "print(\"Матричне множення:\\n\", matmul_result)"
      ]
    },
    {
      "cell_type": "markdown",
      "metadata": {
        "id": "7aGdszTGuMCC"
      },
      "source": [
        "9. Створіть двовимірний масив (матрицю) та розрахуйте: 1) мінімальне число, 2) максимальне число, 3) суму чисел, 4) мінімальні числа для кожного рядка, 5) максимальні числа для кожного стовпчика."
      ]
    },
    {
      "cell_type": "code",
      "execution_count": 10,
      "metadata": {
        "id": "RL_39YdauMKS"
      },
      "outputs": [
        {
          "name": "stdout",
          "output_type": "stream",
          "text": [
            "Мінімальне число: 10\n",
            "Максимальне число: 50\n",
            "Сума чисел: 270\n",
            "Мінімальні числа для кожного рядка: [10 25 40]\n",
            "Максимальні числа для кожного стовпця: [40 45 50]\n"
          ]
        }
      ],
      "source": [
        "matrix = np.array([[10, 15, 20], [25, 30, 35], [40, 45, 50]])\n",
        "\n",
        "print(\"Мінімальне число:\", np.min(matrix))\n",
        "print(\"Максимальне число:\", np.max(matrix))\n",
        "print(\"Сума чисел:\", np.sum(matrix))\n",
        "print(\"Мінімальні числа для кожного рядка:\", np.min(matrix, axis=1))\n",
        "print(\"Максимальні числа для кожного стовпця:\", np.max(matrix, axis=0))"
      ]
    },
    {
      "cell_type": "markdown",
      "metadata": {
        "id": "c_hNdOpjHRFo"
      },
      "source": [
        "10. Створіть матрицю , де деякі елементи повторюються. Знайдіть унікальні значення елементів цієї матриці та їхні частоти."
      ]
    },
    {
      "cell_type": "markdown",
      "metadata": {
        "id": "Usj7tyjnprEV"
      },
      "source": [
        "# II. Importing. Creating DF"
      ]
    },
    {
      "cell_type": "markdown",
      "metadata": {
        "id": "ePGNrYa6pxRY"
      },
      "source": [
        "0. Імпортувати бібліотеку pandas"
      ]
    },
    {
      "cell_type": "code",
      "execution_count": 8,
      "metadata": {
        "id": "KIPDNBqQpvkI"
      },
      "outputs": [],
      "source": [
        "import pandas as pd"
      ]
    },
    {
      "cell_type": "markdown",
      "metadata": {
        "id": "8g9-hgi5qWJv"
      },
      "source": [
        "11. Створити тестовий датафрейм зі списку, що містить записи пацієнтів про їхні прізвища, імена, дату народження, масу тіла та наявність медичного страхування. Одне зі значень зробить пустим. Ознайомтесь з типом кожної колонки."
      ]
    },
    {
      "cell_type": "code",
      "execution_count": 9,
      "metadata": {
        "id": "OvA4GvJ5qYb1"
      },
      "outputs": [
        {
          "name": "stdout",
          "output_type": "stream",
          "text": [
            "Прізвище                object\n",
            "Ім'я                    object\n",
            "Дата народження         object\n",
            "Маса тіла (кг)         float64\n",
            "Медичне страхування       bool\n",
            "dtype: object\n"
          ]
        },
        {
          "data": {
            "text/html": [
              "<div>\n",
              "<style scoped>\n",
              "    .dataframe tbody tr th:only-of-type {\n",
              "        vertical-align: middle;\n",
              "    }\n",
              "\n",
              "    .dataframe tbody tr th {\n",
              "        vertical-align: top;\n",
              "    }\n",
              "\n",
              "    .dataframe thead th {\n",
              "        text-align: right;\n",
              "    }\n",
              "</style>\n",
              "<table border=\"1\" class=\"dataframe\">\n",
              "  <thead>\n",
              "    <tr style=\"text-align: right;\">\n",
              "      <th></th>\n",
              "      <th>Прізвище</th>\n",
              "      <th>Ім'я</th>\n",
              "      <th>Дата народження</th>\n",
              "      <th>Маса тіла (кг)</th>\n",
              "      <th>Медичне страхування</th>\n",
              "    </tr>\n",
              "  </thead>\n",
              "  <tbody>\n",
              "    <tr>\n",
              "      <th>0</th>\n",
              "      <td>Іваненко</td>\n",
              "      <td>Іван</td>\n",
              "      <td>2000-05-14</td>\n",
              "      <td>70.0</td>\n",
              "      <td>True</td>\n",
              "    </tr>\n",
              "    <tr>\n",
              "      <th>1</th>\n",
              "      <td>Петренко</td>\n",
              "      <td>Петро</td>\n",
              "      <td>1999-03-22</td>\n",
              "      <td>65.0</td>\n",
              "      <td>True</td>\n",
              "    </tr>\n",
              "    <tr>\n",
              "      <th>2</th>\n",
              "      <td>Сидоренко</td>\n",
              "      <td>Сидір</td>\n",
              "      <td>2001-07-11</td>\n",
              "      <td>80.0</td>\n",
              "      <td>False</td>\n",
              "    </tr>\n",
              "    <tr>\n",
              "      <th>3</th>\n",
              "      <td>None</td>\n",
              "      <td>Марія</td>\n",
              "      <td>1998-12-31</td>\n",
              "      <td>NaN</td>\n",
              "      <td>True</td>\n",
              "    </tr>\n",
              "  </tbody>\n",
              "</table>\n",
              "</div>"
            ],
            "text/plain": [
              "    Прізвище   Ім'я Дата народження  Маса тіла (кг)  Медичне страхування\n",
              "0   Іваненко   Іван      2000-05-14            70.0                 True\n",
              "1   Петренко  Петро      1999-03-22            65.0                 True\n",
              "2  Сидоренко  Сидір      2001-07-11            80.0                False\n",
              "3       None  Марія      1998-12-31             NaN                 True"
            ]
          },
          "execution_count": 9,
          "metadata": {},
          "output_type": "execute_result"
        }
      ],
      "source": [
        "data = {\n",
        "    \"Прізвище\": [\"Іваненко\", \"Петренко\", \"Сидоренко\", None],\n",
        "    \"Ім'я\": [\"Іван\", \"Петро\", \"Сидір\", \"Марія\"],\n",
        "    \"Дата народження\": [\"2000-05-14\", \"1999-03-22\", \"2001-07-11\", \"1998-12-31\"],\n",
        "    \"Маса тіла (кг)\": [70, 65, 80, None],\n",
        "    \"Медичне страхування\": [True, True, False, True]\n",
        "}\n",
        "\n",
        "patients_df = pd.DataFrame(data)\n",
        "\n",
        "# Виведення типів даних колонок\n",
        "print(patients_df.dtypes)\n",
        "patients_df"
      ]
    },
    {
      "cell_type": "code",
      "execution_count": null,
      "metadata": {
        "id": "9ioPRVvxqcQ7"
      },
      "outputs": [],
      "source": []
    },
    {
      "cell_type": "markdown",
      "metadata": {
        "id": "b1SvVHjjqcv-"
      },
      "source": [
        "# III. Reading from file"
      ]
    },
    {
      "cell_type": "markdown",
      "metadata": {
        "id": "7HhZWLs_qhgq"
      },
      "source": [
        "12. Завантажити файл missile_attacks_daily.csv з [Kaggle](https://www.kaggle.com/datasets/piterfm/massive-missile-attacks-on-ukraine?select=missile_attacks_daily.csv). Ознайомитись з описом датасету. Додати файл до папки поточної сесії colab notebook на панелі ліворуч або на гугл диск (локально до проєкту, якщо працюєте у пайчармі). Зчитати датафрейм з файлу та вивести датафрейм на екран. Зверніть увагу на те, щоб всі колонки відповідали наведеним у описі типам даних."
      ]
    },
    {
      "cell_type": "code",
      "execution_count": null,
      "metadata": {
        "id": "oQcB3kIqqg0h"
      },
      "outputs": [
        {
          "ename": "FileNotFoundError",
          "evalue": "[Errno 2] No such file or directory: 'C:\\\\Users\\\\jur1us\\\\Desktop\\\\missile_attacks_daily (1)'",
          "output_type": "error",
          "traceback": [
            "\u001b[1;31m---------------------------------------------------------------------------\u001b[0m",
            "\u001b[1;31mFileNotFoundError\u001b[0m                         Traceback (most recent call last)",
            "Cell \u001b[1;32mIn[11], line 8\u001b[0m\n\u001b[0;32m      4\u001b[0m file_path \u001b[38;5;241m=\u001b[39m \u001b[38;5;124mr\u001b[39m\u001b[38;5;124m'\u001b[39m\u001b[38;5;124mC:\u001b[39m\u001b[38;5;124m\\\u001b[39m\u001b[38;5;124mUsers\u001b[39m\u001b[38;5;124m\\\u001b[39m\u001b[38;5;124mjur1us\u001b[39m\u001b[38;5;124m\\\u001b[39m\u001b[38;5;124mDesktop\u001b[39m\u001b[38;5;124m\\\u001b[39m\u001b[38;5;124mmissile_attacks_daily (1)\u001b[39m\u001b[38;5;124m'\u001b[39m\n\u001b[0;32m      7\u001b[0m \u001b[38;5;66;03m# Зчитування датафрейму\u001b[39;00m\n\u001b[1;32m----> 8\u001b[0m df \u001b[38;5;241m=\u001b[39m \u001b[43mpd\u001b[49m\u001b[38;5;241;43m.\u001b[39;49m\u001b[43mread_csv\u001b[49m\u001b[43m(\u001b[49m\u001b[43mfile_path\u001b[49m\u001b[43m)\u001b[49m\n\u001b[0;32m     10\u001b[0m \u001b[38;5;66;03m# Виведення перших кількох рядків датафрейму для ознайомлення\u001b[39;00m\n\u001b[0;32m     11\u001b[0m \u001b[38;5;28mprint\u001b[39m(df\u001b[38;5;241m.\u001b[39mhead())\n",
            "File \u001b[1;32mc:\\Users\\jur1us\\AppData\\Local\\Programs\\Python\\Python313\\Lib\\site-packages\\pandas\\io\\parsers\\readers.py:1026\u001b[0m, in \u001b[0;36mread_csv\u001b[1;34m(filepath_or_buffer, sep, delimiter, header, names, index_col, usecols, dtype, engine, converters, true_values, false_values, skipinitialspace, skiprows, skipfooter, nrows, na_values, keep_default_na, na_filter, verbose, skip_blank_lines, parse_dates, infer_datetime_format, keep_date_col, date_parser, date_format, dayfirst, cache_dates, iterator, chunksize, compression, thousands, decimal, lineterminator, quotechar, quoting, doublequote, escapechar, comment, encoding, encoding_errors, dialect, on_bad_lines, delim_whitespace, low_memory, memory_map, float_precision, storage_options, dtype_backend)\u001b[0m\n\u001b[0;32m   1013\u001b[0m kwds_defaults \u001b[38;5;241m=\u001b[39m _refine_defaults_read(\n\u001b[0;32m   1014\u001b[0m     dialect,\n\u001b[0;32m   1015\u001b[0m     delimiter,\n\u001b[1;32m   (...)\u001b[0m\n\u001b[0;32m   1022\u001b[0m     dtype_backend\u001b[38;5;241m=\u001b[39mdtype_backend,\n\u001b[0;32m   1023\u001b[0m )\n\u001b[0;32m   1024\u001b[0m kwds\u001b[38;5;241m.\u001b[39mupdate(kwds_defaults)\n\u001b[1;32m-> 1026\u001b[0m \u001b[38;5;28;01mreturn\u001b[39;00m \u001b[43m_read\u001b[49m\u001b[43m(\u001b[49m\u001b[43mfilepath_or_buffer\u001b[49m\u001b[43m,\u001b[49m\u001b[43m \u001b[49m\u001b[43mkwds\u001b[49m\u001b[43m)\u001b[49m\n",
            "File \u001b[1;32mc:\\Users\\jur1us\\AppData\\Local\\Programs\\Python\\Python313\\Lib\\site-packages\\pandas\\io\\parsers\\readers.py:620\u001b[0m, in \u001b[0;36m_read\u001b[1;34m(filepath_or_buffer, kwds)\u001b[0m\n\u001b[0;32m    617\u001b[0m _validate_names(kwds\u001b[38;5;241m.\u001b[39mget(\u001b[38;5;124m\"\u001b[39m\u001b[38;5;124mnames\u001b[39m\u001b[38;5;124m\"\u001b[39m, \u001b[38;5;28;01mNone\u001b[39;00m))\n\u001b[0;32m    619\u001b[0m \u001b[38;5;66;03m# Create the parser.\u001b[39;00m\n\u001b[1;32m--> 620\u001b[0m parser \u001b[38;5;241m=\u001b[39m \u001b[43mTextFileReader\u001b[49m\u001b[43m(\u001b[49m\u001b[43mfilepath_or_buffer\u001b[49m\u001b[43m,\u001b[49m\u001b[43m \u001b[49m\u001b[38;5;241;43m*\u001b[39;49m\u001b[38;5;241;43m*\u001b[39;49m\u001b[43mkwds\u001b[49m\u001b[43m)\u001b[49m\n\u001b[0;32m    622\u001b[0m \u001b[38;5;28;01mif\u001b[39;00m chunksize \u001b[38;5;129;01mor\u001b[39;00m iterator:\n\u001b[0;32m    623\u001b[0m     \u001b[38;5;28;01mreturn\u001b[39;00m parser\n",
            "File \u001b[1;32mc:\\Users\\jur1us\\AppData\\Local\\Programs\\Python\\Python313\\Lib\\site-packages\\pandas\\io\\parsers\\readers.py:1620\u001b[0m, in \u001b[0;36mTextFileReader.__init__\u001b[1;34m(self, f, engine, **kwds)\u001b[0m\n\u001b[0;32m   1617\u001b[0m     \u001b[38;5;28mself\u001b[39m\u001b[38;5;241m.\u001b[39moptions[\u001b[38;5;124m\"\u001b[39m\u001b[38;5;124mhas_index_names\u001b[39m\u001b[38;5;124m\"\u001b[39m] \u001b[38;5;241m=\u001b[39m kwds[\u001b[38;5;124m\"\u001b[39m\u001b[38;5;124mhas_index_names\u001b[39m\u001b[38;5;124m\"\u001b[39m]\n\u001b[0;32m   1619\u001b[0m \u001b[38;5;28mself\u001b[39m\u001b[38;5;241m.\u001b[39mhandles: IOHandles \u001b[38;5;241m|\u001b[39m \u001b[38;5;28;01mNone\u001b[39;00m \u001b[38;5;241m=\u001b[39m \u001b[38;5;28;01mNone\u001b[39;00m\n\u001b[1;32m-> 1620\u001b[0m \u001b[38;5;28mself\u001b[39m\u001b[38;5;241m.\u001b[39m_engine \u001b[38;5;241m=\u001b[39m \u001b[38;5;28;43mself\u001b[39;49m\u001b[38;5;241;43m.\u001b[39;49m\u001b[43m_make_engine\u001b[49m\u001b[43m(\u001b[49m\u001b[43mf\u001b[49m\u001b[43m,\u001b[49m\u001b[43m \u001b[49m\u001b[38;5;28;43mself\u001b[39;49m\u001b[38;5;241;43m.\u001b[39;49m\u001b[43mengine\u001b[49m\u001b[43m)\u001b[49m\n",
            "File \u001b[1;32mc:\\Users\\jur1us\\AppData\\Local\\Programs\\Python\\Python313\\Lib\\site-packages\\pandas\\io\\parsers\\readers.py:1880\u001b[0m, in \u001b[0;36mTextFileReader._make_engine\u001b[1;34m(self, f, engine)\u001b[0m\n\u001b[0;32m   1878\u001b[0m     \u001b[38;5;28;01mif\u001b[39;00m \u001b[38;5;124m\"\u001b[39m\u001b[38;5;124mb\u001b[39m\u001b[38;5;124m\"\u001b[39m \u001b[38;5;129;01mnot\u001b[39;00m \u001b[38;5;129;01min\u001b[39;00m mode:\n\u001b[0;32m   1879\u001b[0m         mode \u001b[38;5;241m+\u001b[39m\u001b[38;5;241m=\u001b[39m \u001b[38;5;124m\"\u001b[39m\u001b[38;5;124mb\u001b[39m\u001b[38;5;124m\"\u001b[39m\n\u001b[1;32m-> 1880\u001b[0m \u001b[38;5;28mself\u001b[39m\u001b[38;5;241m.\u001b[39mhandles \u001b[38;5;241m=\u001b[39m \u001b[43mget_handle\u001b[49m\u001b[43m(\u001b[49m\n\u001b[0;32m   1881\u001b[0m \u001b[43m    \u001b[49m\u001b[43mf\u001b[49m\u001b[43m,\u001b[49m\n\u001b[0;32m   1882\u001b[0m \u001b[43m    \u001b[49m\u001b[43mmode\u001b[49m\u001b[43m,\u001b[49m\n\u001b[0;32m   1883\u001b[0m \u001b[43m    \u001b[49m\u001b[43mencoding\u001b[49m\u001b[38;5;241;43m=\u001b[39;49m\u001b[38;5;28;43mself\u001b[39;49m\u001b[38;5;241;43m.\u001b[39;49m\u001b[43moptions\u001b[49m\u001b[38;5;241;43m.\u001b[39;49m\u001b[43mget\u001b[49m\u001b[43m(\u001b[49m\u001b[38;5;124;43m\"\u001b[39;49m\u001b[38;5;124;43mencoding\u001b[39;49m\u001b[38;5;124;43m\"\u001b[39;49m\u001b[43m,\u001b[49m\u001b[43m \u001b[49m\u001b[38;5;28;43;01mNone\u001b[39;49;00m\u001b[43m)\u001b[49m\u001b[43m,\u001b[49m\n\u001b[0;32m   1884\u001b[0m \u001b[43m    \u001b[49m\u001b[43mcompression\u001b[49m\u001b[38;5;241;43m=\u001b[39;49m\u001b[38;5;28;43mself\u001b[39;49m\u001b[38;5;241;43m.\u001b[39;49m\u001b[43moptions\u001b[49m\u001b[38;5;241;43m.\u001b[39;49m\u001b[43mget\u001b[49m\u001b[43m(\u001b[49m\u001b[38;5;124;43m\"\u001b[39;49m\u001b[38;5;124;43mcompression\u001b[39;49m\u001b[38;5;124;43m\"\u001b[39;49m\u001b[43m,\u001b[49m\u001b[43m \u001b[49m\u001b[38;5;28;43;01mNone\u001b[39;49;00m\u001b[43m)\u001b[49m\u001b[43m,\u001b[49m\n\u001b[0;32m   1885\u001b[0m \u001b[43m    \u001b[49m\u001b[43mmemory_map\u001b[49m\u001b[38;5;241;43m=\u001b[39;49m\u001b[38;5;28;43mself\u001b[39;49m\u001b[38;5;241;43m.\u001b[39;49m\u001b[43moptions\u001b[49m\u001b[38;5;241;43m.\u001b[39;49m\u001b[43mget\u001b[49m\u001b[43m(\u001b[49m\u001b[38;5;124;43m\"\u001b[39;49m\u001b[38;5;124;43mmemory_map\u001b[39;49m\u001b[38;5;124;43m\"\u001b[39;49m\u001b[43m,\u001b[49m\u001b[43m \u001b[49m\u001b[38;5;28;43;01mFalse\u001b[39;49;00m\u001b[43m)\u001b[49m\u001b[43m,\u001b[49m\n\u001b[0;32m   1886\u001b[0m \u001b[43m    \u001b[49m\u001b[43mis_text\u001b[49m\u001b[38;5;241;43m=\u001b[39;49m\u001b[43mis_text\u001b[49m\u001b[43m,\u001b[49m\n\u001b[0;32m   1887\u001b[0m \u001b[43m    \u001b[49m\u001b[43merrors\u001b[49m\u001b[38;5;241;43m=\u001b[39;49m\u001b[38;5;28;43mself\u001b[39;49m\u001b[38;5;241;43m.\u001b[39;49m\u001b[43moptions\u001b[49m\u001b[38;5;241;43m.\u001b[39;49m\u001b[43mget\u001b[49m\u001b[43m(\u001b[49m\u001b[38;5;124;43m\"\u001b[39;49m\u001b[38;5;124;43mencoding_errors\u001b[39;49m\u001b[38;5;124;43m\"\u001b[39;49m\u001b[43m,\u001b[49m\u001b[43m \u001b[49m\u001b[38;5;124;43m\"\u001b[39;49m\u001b[38;5;124;43mstrict\u001b[39;49m\u001b[38;5;124;43m\"\u001b[39;49m\u001b[43m)\u001b[49m\u001b[43m,\u001b[49m\n\u001b[0;32m   1888\u001b[0m \u001b[43m    \u001b[49m\u001b[43mstorage_options\u001b[49m\u001b[38;5;241;43m=\u001b[39;49m\u001b[38;5;28;43mself\u001b[39;49m\u001b[38;5;241;43m.\u001b[39;49m\u001b[43moptions\u001b[49m\u001b[38;5;241;43m.\u001b[39;49m\u001b[43mget\u001b[49m\u001b[43m(\u001b[49m\u001b[38;5;124;43m\"\u001b[39;49m\u001b[38;5;124;43mstorage_options\u001b[39;49m\u001b[38;5;124;43m\"\u001b[39;49m\u001b[43m,\u001b[49m\u001b[43m \u001b[49m\u001b[38;5;28;43;01mNone\u001b[39;49;00m\u001b[43m)\u001b[49m\u001b[43m,\u001b[49m\n\u001b[0;32m   1889\u001b[0m \u001b[43m\u001b[49m\u001b[43m)\u001b[49m\n\u001b[0;32m   1890\u001b[0m \u001b[38;5;28;01massert\u001b[39;00m \u001b[38;5;28mself\u001b[39m\u001b[38;5;241m.\u001b[39mhandles \u001b[38;5;129;01mis\u001b[39;00m \u001b[38;5;129;01mnot\u001b[39;00m \u001b[38;5;28;01mNone\u001b[39;00m\n\u001b[0;32m   1891\u001b[0m f \u001b[38;5;241m=\u001b[39m \u001b[38;5;28mself\u001b[39m\u001b[38;5;241m.\u001b[39mhandles\u001b[38;5;241m.\u001b[39mhandle\n",
            "File \u001b[1;32mc:\\Users\\jur1us\\AppData\\Local\\Programs\\Python\\Python313\\Lib\\site-packages\\pandas\\io\\common.py:873\u001b[0m, in \u001b[0;36mget_handle\u001b[1;34m(path_or_buf, mode, encoding, compression, memory_map, is_text, errors, storage_options)\u001b[0m\n\u001b[0;32m    868\u001b[0m \u001b[38;5;28;01melif\u001b[39;00m \u001b[38;5;28misinstance\u001b[39m(handle, \u001b[38;5;28mstr\u001b[39m):\n\u001b[0;32m    869\u001b[0m     \u001b[38;5;66;03m# Check whether the filename is to be opened in binary mode.\u001b[39;00m\n\u001b[0;32m    870\u001b[0m     \u001b[38;5;66;03m# Binary mode does not support 'encoding' and 'newline'.\u001b[39;00m\n\u001b[0;32m    871\u001b[0m     \u001b[38;5;28;01mif\u001b[39;00m ioargs\u001b[38;5;241m.\u001b[39mencoding \u001b[38;5;129;01mand\u001b[39;00m \u001b[38;5;124m\"\u001b[39m\u001b[38;5;124mb\u001b[39m\u001b[38;5;124m\"\u001b[39m \u001b[38;5;129;01mnot\u001b[39;00m \u001b[38;5;129;01min\u001b[39;00m ioargs\u001b[38;5;241m.\u001b[39mmode:\n\u001b[0;32m    872\u001b[0m         \u001b[38;5;66;03m# Encoding\u001b[39;00m\n\u001b[1;32m--> 873\u001b[0m         handle \u001b[38;5;241m=\u001b[39m \u001b[38;5;28;43mopen\u001b[39;49m\u001b[43m(\u001b[49m\n\u001b[0;32m    874\u001b[0m \u001b[43m            \u001b[49m\u001b[43mhandle\u001b[49m\u001b[43m,\u001b[49m\n\u001b[0;32m    875\u001b[0m \u001b[43m            \u001b[49m\u001b[43mioargs\u001b[49m\u001b[38;5;241;43m.\u001b[39;49m\u001b[43mmode\u001b[49m\u001b[43m,\u001b[49m\n\u001b[0;32m    876\u001b[0m \u001b[43m            \u001b[49m\u001b[43mencoding\u001b[49m\u001b[38;5;241;43m=\u001b[39;49m\u001b[43mioargs\u001b[49m\u001b[38;5;241;43m.\u001b[39;49m\u001b[43mencoding\u001b[49m\u001b[43m,\u001b[49m\n\u001b[0;32m    877\u001b[0m \u001b[43m            \u001b[49m\u001b[43merrors\u001b[49m\u001b[38;5;241;43m=\u001b[39;49m\u001b[43merrors\u001b[49m\u001b[43m,\u001b[49m\n\u001b[0;32m    878\u001b[0m \u001b[43m            \u001b[49m\u001b[43mnewline\u001b[49m\u001b[38;5;241;43m=\u001b[39;49m\u001b[38;5;124;43m\"\u001b[39;49m\u001b[38;5;124;43m\"\u001b[39;49m\u001b[43m,\u001b[49m\n\u001b[0;32m    879\u001b[0m \u001b[43m        \u001b[49m\u001b[43m)\u001b[49m\n\u001b[0;32m    880\u001b[0m     \u001b[38;5;28;01melse\u001b[39;00m:\n\u001b[0;32m    881\u001b[0m         \u001b[38;5;66;03m# Binary mode\u001b[39;00m\n\u001b[0;32m    882\u001b[0m         handle \u001b[38;5;241m=\u001b[39m \u001b[38;5;28mopen\u001b[39m(handle, ioargs\u001b[38;5;241m.\u001b[39mmode)\n",
            "\u001b[1;31mFileNotFoundError\u001b[0m: [Errno 2] No such file or directory: 'C:\\\\Users\\\\jur1us\\\\Desktop\\\\missile_attacks_daily (1)'"
          ]
        }
      ],
      "source": [
        "import pandas as pd\n",
        "\n",
        "# Вкажіть шлях до файлу залежно від вашого середовища\n",
        "file_path = r'C:\\Users\\jur1us\\Desktop\\missile_attacks_daily (1).csv'\n",
        "\n",
        "\n",
        "\n",
        "# Зчитування датафрейму\n",
        "df = pd.read_csv(file_path)\n",
        "\n",
        "# Виведення перших кількох рядків датафрейму для ознайомлення\n",
        "print(df.head())\n",
        "\n",
        "# Виведення інформації про типи даних у датафреймі\n",
        "print(df.info())\n"
      ]
    },
    {
      "cell_type": "markdown",
      "metadata": {
        "id": "89zu0WNErzd2"
      },
      "source": [
        "# IV. Data understanding"
      ]
    },
    {
      "cell_type": "markdown",
      "metadata": {
        "id": "LJqrTfHr2d1G"
      },
      "source": [
        "13. Виведіть на екран перші 10 рядків зчитаного датафрейму."
      ]
    },
    {
      "cell_type": "code",
      "execution_count": null,
      "metadata": {
        "id": "GdVE9WYwr1sD"
      },
      "outputs": [],
      "source": []
    },
    {
      "cell_type": "markdown",
      "metadata": {
        "id": "1PtkLHWj2lq0"
      },
      "source": [
        "14. Отримайте інформацію про форму датафрейму."
      ]
    },
    {
      "cell_type": "code",
      "execution_count": null,
      "metadata": {
        "id": "CBPTYTjV2mtG"
      },
      "outputs": [],
      "source": []
    },
    {
      "cell_type": "markdown",
      "metadata": {
        "id": "GDVcFC6F2yVz"
      },
      "source": [
        "15. Отримайте дані про кожну колонку з її назвою, типом даних та кількістю непустих значень."
      ]
    },
    {
      "cell_type": "code",
      "execution_count": null,
      "metadata": {
        "id": "GTRgfKJ920bn"
      },
      "outputs": [],
      "source": []
    },
    {
      "cell_type": "markdown",
      "metadata": {
        "id": "DEy-hgsw2452"
      },
      "source": [
        "16. Отримайте статистику для колонок числового типу."
      ]
    },
    {
      "cell_type": "code",
      "execution_count": null,
      "metadata": {
        "id": "94mI2N9t267Q"
      },
      "outputs": [],
      "source": []
    },
    {
      "cell_type": "markdown",
      "metadata": {
        "id": "n0MGJU2C2-iD"
      },
      "source": [
        "17. Отримати кількість унікальних значень у кожній колонці. Вивести на екран значення та кількість цих значень у колонці, яка має найменше унікальних значень."
      ]
    },
    {
      "cell_type": "code",
      "execution_count": null,
      "metadata": {
        "id": "lQh_jdGe3BK5"
      },
      "outputs": [],
      "source": []
    },
    {
      "cell_type": "code",
      "execution_count": null,
      "metadata": {
        "id": "BlAeyE2q3tgd"
      },
      "outputs": [],
      "source": []
    },
    {
      "cell_type": "markdown",
      "metadata": {
        "id": "iVRkzUti3uC_"
      },
      "source": [
        "18. На основі отриманої інформації про датасет вище, опишіть по пунктах, що б ви виправили або на що б звернули увагу на кроці очищення даних і чому?"
      ]
    },
    {
      "cell_type": "markdown",
      "metadata": {
        "id": "9_Q-Fcuo30zY"
      },
      "source": [
        "**місце для текстової відповіді**\n",
        "\n",
        "1.   Пункт списку\n",
        "2.   Пункт списку\n",
        "\n",
        "...\n"
      ]
    },
    {
      "cell_type": "markdown",
      "metadata": {
        "id": "Ue9ECz5-3_pq"
      },
      "source": [
        "# V. Data Cleaning"
      ]
    },
    {
      "cell_type": "markdown",
      "metadata": {
        "id": "ZtHUiSrV4CL-"
      },
      "source": [
        "19. Перетворити колонку launched у цілочислену (Int64). Перевірити, чи все пройшло, як очікувалось."
      ]
    },
    {
      "cell_type": "code",
      "execution_count": null,
      "metadata": {
        "id": "AWyo_-Un3xqz"
      },
      "outputs": [],
      "source": []
    },
    {
      "cell_type": "code",
      "execution_count": null,
      "metadata": {
        "id": "ys_OfWeQ4OjW"
      },
      "outputs": [],
      "source": []
    },
    {
      "cell_type": "markdown",
      "metadata": {
        "id": "KsHhM4EM4O3d"
      },
      "source": [
        "20. Видалити колонки, де кількість непустих значень становить менше 30% від загальної кількості записів."
      ]
    },
    {
      "cell_type": "code",
      "execution_count": null,
      "metadata": {
        "id": "Z1ZCclle4Vyk"
      },
      "outputs": [],
      "source": []
    },
    {
      "cell_type": "code",
      "execution_count": null,
      "metadata": {
        "id": "MGrORLGe4XA2"
      },
      "outputs": [],
      "source": []
    },
    {
      "cell_type": "markdown",
      "metadata": {
        "id": "p8cD0M0U4cNT"
      },
      "source": [
        "21. Очистити датафрейм від дублікатів (дублюючихся рядків) та записів, де атака продовжувалась відʼємну або нульову кількість часу (що фізично неможливо). Не забудьте оновити індекс. Скільки рядків було видалено? Як ви це перевірили у коді?"
      ]
    },
    {
      "cell_type": "code",
      "execution_count": null,
      "metadata": {
        "id": "in3Fvn0I4l-I"
      },
      "outputs": [],
      "source": []
    },
    {
      "cell_type": "markdown",
      "metadata": {
        "id": "8zqL82Ie4nqY"
      },
      "source": [
        "**місце для текстової відповіді**"
      ]
    },
    {
      "cell_type": "code",
      "execution_count": null,
      "metadata": {
        "id": "GoHlOjXj4sIw"
      },
      "outputs": [],
      "source": []
    },
    {
      "cell_type": "markdown",
      "metadata": {
        "id": "6oZ7C_ry4uvb"
      },
      "source": [
        "22. Виведіть на екран всі рядки, де є хоч одне пропущене значення."
      ]
    },
    {
      "cell_type": "code",
      "execution_count": null,
      "metadata": {
        "id": "BPmCTDtg4wVS"
      },
      "outputs": [],
      "source": []
    }
  ],
  "metadata": {
    "colab": {
      "collapsed_sections": [
        "dwSyU2AjXwc-"
      ],
      "provenance": []
    },
    "kernelspec": {
      "display_name": "Python 3",
      "name": "python3"
    },
    "language_info": {
      "codemirror_mode": {
        "name": "ipython",
        "version": 3
      },
      "file_extension": ".py",
      "mimetype": "text/x-python",
      "name": "python",
      "nbconvert_exporter": "python",
      "pygments_lexer": "ipython3",
      "version": "3.13.1"
    }
  },
  "nbformat": 4,
  "nbformat_minor": 0
}
